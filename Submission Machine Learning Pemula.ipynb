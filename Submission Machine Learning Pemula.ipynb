{
  "nbformat": 4,
  "nbformat_minor": 0,
  "metadata": {
    "colab": {
      "provenance": [],
      "collapsed_sections": [
        "hDIiMPd4BpF3",
        "r3qDvjsq9R5I"
      ],
      "gpuType": "T4"
    },
    "kernelspec": {
      "name": "python3",
      "display_name": "Python 3"
    },
    "language_info": {
      "name": "python"
    },
    "accelerator": "GPU"
  },
  "cells": [
    {
      "cell_type": "markdown",
      "source": [
        "# About this project\n",
        "\n",
        "\n",
        "1. Dataset yang dipakai https://github.com/dicodingacademy/assets/releases/download/release/rockpaperscissors.zip.\n",
        "2. Dataset harus dibagi menjadi train set dan validation set.\n",
        "3. Ukuran validation set harus 40% dari total dataset (data training memiliki 1314 sampel, dan data validasi sebanyak 874 sampel).\n",
        "4. Harus mengimplementasikan augmentasi gambar.\n",
        "5. Menggunakan image data generator.\n",
        "6. Model harus menggunakan model sequential.\n",
        "7. Pelatihan model tidak melebihi waktu 30 menit.\n",
        "8. Program dikerjakan pada Google Colaboratory.\n",
        "9. Akurasi dari model minimal 85%."
      ],
      "metadata": {
        "id": "7mGn9_ygmqvL"
      }
    },
    {
      "cell_type": "markdown",
      "source": [
        "# Profile\n",
        "\n",
        "\n",
        "---\n",
        "\n",
        "Nama : Celvine Adi Putra\n",
        "\n",
        "Email : Celvineadiputra2@gmail.com"
      ],
      "metadata": {
        "id": "hDIiMPd4BpF3"
      }
    },
    {
      "cell_type": "markdown",
      "source": [
        "# UTILS"
      ],
      "metadata": {
        "id": "0C3D_cc9B_TP"
      }
    },
    {
      "cell_type": "code",
      "source": [
        "def convertTime(seconds):\n",
        "  min, sec = divmod(seconds, 60)\n",
        "  hour, min = divmod(min, 60)\n",
        "  return '%d:%02d:%02d' % (hour, min, sec)"
      ],
      "metadata": {
        "id": "OJTQEgzFAsqx"
      },
      "execution_count": null,
      "outputs": []
    },
    {
      "cell_type": "markdown",
      "source": [
        "# Prepare Data"
      ],
      "metadata": {
        "id": "LSGZcoQJ1Ohp"
      }
    },
    {
      "cell_type": "code",
      "execution_count": null,
      "metadata": {
        "id": "2UAI4xXomRyE"
      },
      "outputs": [],
      "source": [
        "# Load dataset\n",
        "!wget https://github.com/dicodingacademy/assets/releases/download/release/rockpaperscissors.zip\n",
        "\n",
        "# Extract dataset\n",
        "!unzip rockpaperscissors.zip -d rockpaperscissors\n",
        "\n",
        "# Reformat folder\n",
        "!mkdir /content/dataset\n",
        "!mv /content/rockpaperscissors/rockpaperscissors/scissors /content/dataset/scissors\n",
        "!mv /content/rockpaperscissors/rockpaperscissors/rock /content/dataset/rock\n",
        "!mv /content/rockpaperscissors/rockpaperscissors/paper /content/dataset/paper\n",
        "\n",
        "# Remove unused resources\n",
        "!rm -r /content/rockpaperscissors\n",
        "!rm /content/rockpaperscissors.zip"
      ]
    },
    {
      "cell_type": "code",
      "source": [
        "# Information about dataset file\n",
        "!ls /content/dataset/paper | wc -l\n",
        "!ls /content/dataset/rock | wc -l\n",
        "!ls /content/dataset/scissors | wc -l"
      ],
      "metadata": {
        "id": "27ngY4ILvDSZ",
        "colab": {
          "base_uri": "https://localhost:8080/"
        },
        "outputId": "9a33f5ec-6c2c-4337-d216-05a2c670b7af"
      },
      "execution_count": null,
      "outputs": [
        {
          "output_type": "stream",
          "name": "stdout",
          "text": [
            "712\n",
            "726\n",
            "750\n"
          ]
        }
      ]
    },
    {
      "cell_type": "code",
      "source": [
        "!pip install split-folders"
      ],
      "metadata": {
        "id": "Xhihnpz1yybQ",
        "colab": {
          "base_uri": "https://localhost:8080/"
        },
        "outputId": "8f547bf2-f90c-4b1e-c1f6-7daa79bfc610"
      },
      "execution_count": null,
      "outputs": [
        {
          "output_type": "stream",
          "name": "stdout",
          "text": [
            "Collecting split-folders\n",
            "  Downloading split_folders-0.5.1-py3-none-any.whl (8.4 kB)\n",
            "Installing collected packages: split-folders\n",
            "Successfully installed split-folders-0.5.1\n"
          ]
        }
      ]
    },
    {
      "cell_type": "code",
      "source": [
        "import os\n",
        "import splitfolders\n",
        "\n",
        "base_path = \"/content/dataset/\"\n",
        "\n",
        "splitfolders.ratio(base_path,seed=42, output=\"data\", ratio=(0.6, 0.4))\n",
        "\n",
        "# Information about data folder\n",
        "!ls /content/data/train/paper | wc -l\n",
        "!ls /content/data/train/rock | wc -l\n",
        "!ls /content/data/train/scissors | wc -l\n",
        "\n",
        "!ls /content/data/val/paper | wc -l\n",
        "!ls /content/data/val/rock | wc -l\n",
        "!ls /content/data/val/scissors | wc -l"
      ],
      "metadata": {
        "id": "lbJwMcQBt5rF",
        "colab": {
          "base_uri": "https://localhost:8080/"
        },
        "outputId": "7df6e9b9-128f-4669-8f1e-588d773a6578"
      },
      "execution_count": null,
      "outputs": [
        {
          "output_type": "stream",
          "name": "stderr",
          "text": [
            "Copying files: 2188 files [00:00, 2532.25 files/s]\n"
          ]
        },
        {
          "output_type": "stream",
          "name": "stdout",
          "text": [
            "427\n",
            "435\n",
            "450\n",
            "285\n",
            "291\n",
            "300\n"
          ]
        }
      ]
    },
    {
      "cell_type": "markdown",
      "source": [
        "# Start Code"
      ],
      "metadata": {
        "id": "GTO3xa3N1WxA"
      }
    },
    {
      "cell_type": "code",
      "source": [
        "import tensorflow as tf\n",
        "from tensorflow.keras.preprocessing.image import ImageDataGenerator"
      ],
      "metadata": {
        "id": "hTSUGoyUtKzG"
      },
      "execution_count": null,
      "outputs": []
    },
    {
      "cell_type": "code",
      "source": [
        "train_datagen = ImageDataGenerator(rescale = 1. / 255, rotation_range = 20, horizontal_flip = True, shear_range = 0.2, fill_mode = 'nearest', brightness_range = [0.1, 1.5], validation_split = 0.3)\n",
        "val_datagen = ImageDataGenerator(rescale = 1. / 255, rotation_range = 20, shear_range = 0.2, brightness_range = [0.1, 1.5], validation_split = 0.3)"
      ],
      "metadata": {
        "id": "KAzS99SN3wwf"
      },
      "execution_count": null,
      "outputs": []
    },
    {
      "cell_type": "code",
      "source": [
        "path_train_directory = \"/content/data/train\"\n",
        "path_val_directory = \"/content/data/val\""
      ],
      "metadata": {
        "id": "PwUybvcb4Ryq"
      },
      "execution_count": null,
      "outputs": []
    },
    {
      "cell_type": "code",
      "source": [
        "train_generator = train_datagen.flow_from_directory(path_train_directory, target_size = (100, 100), batch_size = 32, class_mode = \"categorical\", seed = 42)\n",
        "val_generator = val_datagen.flow_from_directory(path_val_directory, target_size = (100, 100), batch_size = 32, class_mode = \"categorical\", seed = 42)"
      ],
      "metadata": {
        "colab": {
          "base_uri": "https://localhost:8080/"
        },
        "id": "tpa5MMdN4MGP",
        "outputId": "ffc61623-3581-49ac-a79a-d3ff3ee7734b"
      },
      "execution_count": null,
      "outputs": [
        {
          "output_type": "stream",
          "name": "stdout",
          "text": [
            "Found 1312 images belonging to 3 classes.\n",
            "Found 876 images belonging to 3 classes.\n"
          ]
        }
      ]
    },
    {
      "cell_type": "code",
      "source": [
        "model = tf.keras.models.Sequential([\n",
        "    tf.keras.layers.Conv2D(16, (3,3), activation='relu', input_shape=train_generator.image_shape),\n",
        "    tf.keras.layers.MaxPooling2D(2, 2),\n",
        "    tf.keras.layers.Dropout(0.25),\n",
        "    tf.keras.layers.Conv2D(32, (3,3), activation='relu'),\n",
        "    tf.keras.layers.MaxPooling2D(2, 2),\n",
        "    tf.keras.layers.Dropout(0.25),\n",
        "    tf.keras.layers.Conv2D(64, (3,3), activation='relu'),\n",
        "    tf.keras.layers.MaxPooling2D(2,2),\n",
        "    tf.keras.layers.Dropout(0.25),\n",
        "    tf.keras.layers.Conv2D(128, (3,3), activation='relu'),\n",
        "    tf.keras.layers.MaxPooling2D(2,2),\n",
        "    tf.keras.layers.Dropout(0.25),\n",
        "    tf.keras.layers.Conv2D(512, (3,3), activation='relu'),\n",
        "    tf.keras.layers.MaxPooling2D(2,2),\n",
        "    tf.keras.layers.Dropout(0.25),\n",
        "    tf.keras.layers.Flatten(),\n",
        "    tf.keras.layers.Dense(512, activation='relu'),\n",
        "    tf.keras.layers.Dense(3, activation='softmax')\n",
        "])\n",
        "model.summary()"
      ],
      "metadata": {
        "id": "vHLnecbW5zhU",
        "colab": {
          "base_uri": "https://localhost:8080/"
        },
        "outputId": "7e1f7a7c-14b7-456d-d838-f8fdffd49f8c"
      },
      "execution_count": null,
      "outputs": [
        {
          "output_type": "stream",
          "name": "stdout",
          "text": [
            "Model: \"sequential_2\"\n",
            "_________________________________________________________________\n",
            " Layer (type)                Output Shape              Param #   \n",
            "=================================================================\n",
            " conv2d_10 (Conv2D)          (None, 98, 98, 16)        448       \n",
            "                                                                 \n",
            " max_pooling2d_10 (MaxPooli  (None, 49, 49, 16)        0         \n",
            " ng2D)                                                           \n",
            "                                                                 \n",
            " dropout_10 (Dropout)        (None, 49, 49, 16)        0         \n",
            "                                                                 \n",
            " conv2d_11 (Conv2D)          (None, 47, 47, 32)        4640      \n",
            "                                                                 \n",
            " max_pooling2d_11 (MaxPooli  (None, 23, 23, 32)        0         \n",
            " ng2D)                                                           \n",
            "                                                                 \n",
            " dropout_11 (Dropout)        (None, 23, 23, 32)        0         \n",
            "                                                                 \n",
            " conv2d_12 (Conv2D)          (None, 21, 21, 64)        18496     \n",
            "                                                                 \n",
            " max_pooling2d_12 (MaxPooli  (None, 10, 10, 64)        0         \n",
            " ng2D)                                                           \n",
            "                                                                 \n",
            " dropout_12 (Dropout)        (None, 10, 10, 64)        0         \n",
            "                                                                 \n",
            " conv2d_13 (Conv2D)          (None, 8, 8, 128)         73856     \n",
            "                                                                 \n",
            " max_pooling2d_13 (MaxPooli  (None, 4, 4, 128)         0         \n",
            " ng2D)                                                           \n",
            "                                                                 \n",
            " dropout_13 (Dropout)        (None, 4, 4, 128)         0         \n",
            "                                                                 \n",
            " conv2d_14 (Conv2D)          (None, 2, 2, 512)         590336    \n",
            "                                                                 \n",
            " max_pooling2d_14 (MaxPooli  (None, 1, 1, 512)         0         \n",
            " ng2D)                                                           \n",
            "                                                                 \n",
            " dropout_14 (Dropout)        (None, 1, 1, 512)         0         \n",
            "                                                                 \n",
            " flatten_2 (Flatten)         (None, 512)               0         \n",
            "                                                                 \n",
            " dense_4 (Dense)             (None, 512)               262656    \n",
            "                                                                 \n",
            " dense_5 (Dense)             (None, 3)                 1539      \n",
            "                                                                 \n",
            "=================================================================\n",
            "Total params: 951971 (3.63 MB)\n",
            "Trainable params: 951971 (3.63 MB)\n",
            "Non-trainable params: 0 (0.00 Byte)\n",
            "_________________________________________________________________\n"
          ]
        }
      ]
    },
    {
      "cell_type": "code",
      "source": [
        "model.compile(loss=\"categorical_crossentropy\", optimizer=tf.optimizers.Nadam(), metrics=['accuracy'])"
      ],
      "metadata": {
        "id": "PQv23Gti7Zea"
      },
      "execution_count": null,
      "outputs": []
    },
    {
      "cell_type": "code",
      "source": [
        "class callbackModel(tf.keras.callbacks.Callback):\n",
        "  def on_epoch_end(self, epoch, logs={}):\n",
        "    if(logs.get(\"accuracy\") >= 0.98):\n",
        "      self.model.stop_training=True"
      ],
      "metadata": {
        "id": "vwCCLTKiEWxE"
      },
      "execution_count": null,
      "outputs": []
    },
    {
      "cell_type": "code",
      "source": [
        "from timeit import default_timer as timer\n",
        "\n",
        "start = timer()\n",
        "\n",
        "history = model.fit(train_generator, steps_per_epoch = 25, epochs = 20, validation_data = val_generator, validation_steps = 5, verbose = 2, callbacks = [callbackModel()])\n",
        "\n",
        "end = timer()\n",
        "print(f\"Waktu Tranning %s\" % convertTime(end - start))"
      ],
      "metadata": {
        "colab": {
          "base_uri": "https://localhost:8080/"
        },
        "id": "wiv2yT_Q7fGk",
        "outputId": "fd29b1b5-dd1a-4621-ad5c-b18b04f7bad7"
      },
      "execution_count": null,
      "outputs": [
        {
          "output_type": "stream",
          "name": "stdout",
          "text": [
            "Epoch 1/20\n",
            "25/25 - 20s - loss: 1.1044 - accuracy: 0.3388 - val_loss: 1.0979 - val_accuracy: 0.3063 - 20s/epoch - 806ms/step\n",
            "Epoch 2/20\n",
            "25/25 - 18s - loss: 1.0689 - accuracy: 0.4563 - val_loss: 1.0345 - val_accuracy: 0.5188 - 18s/epoch - 706ms/step\n",
            "Epoch 3/20\n",
            "25/25 - 18s - loss: 0.8317 - accuracy: 0.6637 - val_loss: 0.7221 - val_accuracy: 0.7875 - 18s/epoch - 710ms/step\n",
            "Epoch 4/20\n",
            "25/25 - 19s - loss: 0.4055 - accuracy: 0.8650 - val_loss: 0.3456 - val_accuracy: 0.9000 - 19s/epoch - 743ms/step\n",
            "Epoch 5/20\n",
            "25/25 - 18s - loss: 0.2751 - accuracy: 0.9162 - val_loss: 0.2226 - val_accuracy: 0.9438 - 18s/epoch - 707ms/step\n",
            "Epoch 6/20\n",
            "25/25 - 18s - loss: 0.2040 - accuracy: 0.9337 - val_loss: 0.1795 - val_accuracy: 0.9500 - 18s/epoch - 717ms/step\n",
            "Epoch 7/20\n",
            "25/25 - 18s - loss: 0.2062 - accuracy: 0.9337 - val_loss: 0.2014 - val_accuracy: 0.9438 - 18s/epoch - 721ms/step\n",
            "Epoch 8/20\n",
            "25/25 - 18s - loss: 0.2049 - accuracy: 0.9425 - val_loss: 0.1982 - val_accuracy: 0.9563 - 18s/epoch - 707ms/step\n",
            "Epoch 9/20\n",
            "25/25 - 17s - loss: 0.1428 - accuracy: 0.9513 - val_loss: 0.2039 - val_accuracy: 0.9438 - 17s/epoch - 699ms/step\n",
            "Epoch 10/20\n",
            "25/25 - 18s - loss: 0.1652 - accuracy: 0.9500 - val_loss: 0.1357 - val_accuracy: 0.9688 - 18s/epoch - 701ms/step\n",
            "Epoch 11/20\n",
            "25/25 - 18s - loss: 0.1321 - accuracy: 0.9700 - val_loss: 0.1281 - val_accuracy: 0.9750 - 18s/epoch - 724ms/step\n",
            "Epoch 12/20\n",
            "25/25 - 18s - loss: 0.1628 - accuracy: 0.9525 - val_loss: 0.1070 - val_accuracy: 0.9812 - 18s/epoch - 717ms/step\n",
            "Epoch 13/20\n",
            "25/25 - 18s - loss: 0.1267 - accuracy: 0.9550 - val_loss: 0.1711 - val_accuracy: 0.9563 - 18s/epoch - 715ms/step\n",
            "Epoch 14/20\n",
            "25/25 - 18s - loss: 0.1420 - accuracy: 0.9525 - val_loss: 0.1480 - val_accuracy: 0.9688 - 18s/epoch - 723ms/step\n",
            "Epoch 15/20\n",
            "25/25 - 18s - loss: 0.1068 - accuracy: 0.9625 - val_loss: 0.1148 - val_accuracy: 0.9812 - 18s/epoch - 718ms/step\n",
            "Epoch 16/20\n",
            "25/25 - 16s - loss: 0.1194 - accuracy: 0.9600 - val_loss: 0.0988 - val_accuracy: 0.9812 - 16s/epoch - 660ms/step\n",
            "Epoch 17/20\n",
            "25/25 - 17s - loss: 0.0811 - accuracy: 0.9750 - val_loss: 0.1745 - val_accuracy: 0.9625 - 17s/epoch - 665ms/step\n",
            "Epoch 18/20\n",
            "25/25 - 17s - loss: 0.0803 - accuracy: 0.9737 - val_loss: 0.1521 - val_accuracy: 0.9688 - 17s/epoch - 661ms/step\n",
            "Epoch 19/20\n",
            "25/25 - 18s - loss: 0.0761 - accuracy: 0.9787 - val_loss: 0.1357 - val_accuracy: 0.9563 - 18s/epoch - 719ms/step\n",
            "Epoch 20/20\n",
            "25/25 - 18s - loss: 0.0733 - accuracy: 0.9762 - val_loss: 0.1398 - val_accuracy: 0.9625 - 18s/epoch - 702ms/step\n",
            "Waktu Tranning 0:06:15\n"
          ]
        }
      ]
    },
    {
      "cell_type": "code",
      "source": [
        "score = model.evaluate(train_generator)\n",
        "\n",
        "print('Loss: {:.4f}'.format(score[0]))\n",
        "print('Accuracy: {:.4f}'.format(score[1]))"
      ],
      "metadata": {
        "colab": {
          "base_uri": "https://localhost:8080/"
        },
        "id": "YeQFhdtfDkbG",
        "outputId": "44acd3f4-0f39-48ca-f4e8-00a8e72f690e"
      },
      "execution_count": null,
      "outputs": [
        {
          "output_type": "stream",
          "name": "stdout",
          "text": [
            "41/41 [==============================] - 12s 304ms/step - loss: 0.0555 - accuracy: 0.9825\n",
            "Loss: 0.0555\n",
            "Accuracy: 0.9825\n"
          ]
        }
      ]
    },
    {
      "cell_type": "code",
      "source": [
        "import matplotlib.pyplot as plt\n",
        "from sklearn.metrics import confusion_matrix, ConfusionMatrixDisplay\n",
        "\n",
        "y_probs = model.predict(val_generator)\n",
        "y_preds = y_probs.argmax(axis = 1)\n",
        "\n",
        "cm = confusion_matrix(y_preds, val_generator.labels)\n",
        "\n",
        "print(cm)"
      ],
      "metadata": {
        "colab": {
          "base_uri": "https://localhost:8080/"
        },
        "id": "WDf788lZP9df",
        "outputId": "794c3a63-39e8-4998-bb7b-91ceae82186d"
      },
      "execution_count": null,
      "outputs": [
        {
          "output_type": "stream",
          "name": "stdout",
          "text": [
            "28/28 [==============================] - 7s 239ms/step\n",
            "[[101 100  97]\n",
            " [ 84  91 101]\n",
            " [100 100 102]]\n"
          ]
        }
      ]
    },
    {
      "cell_type": "code",
      "source": [
        "import matplotlib.pyplot as plt\n",
        "\n",
        "plt.figure(figsize=(22, 5))\n",
        "\n",
        "plt.subplot(1, 2, 1)\n",
        "plt.plot(history.history['accuracy'])\n",
        "plt.plot(history.history['val_accuracy'])\n",
        "plt.title('accuracy')\n",
        "plt.ylabel('value')\n",
        "plt.xlabel('epoch')\n",
        "plt.legend(['train', 'val'], loc='upper left')\n",
        "\n",
        "plt.subplot(1, 2, 2)\n",
        "plt.plot(history.history['loss'])\n",
        "plt.plot(history.history['val_loss'])\n",
        "plt.title('loss')\n",
        "plt.ylabel('value')\n",
        "plt.xlabel('epoch')\n",
        "plt.legend(['train', 'val'], loc='upper left')\n",
        "\n",
        "plt.show()"
      ],
      "metadata": {
        "colab": {
          "base_uri": "https://localhost:8080/",
          "height": 413
        },
        "id": "sDqBsVz6ayYS",
        "outputId": "cc7b88e6-c2f8-4c7c-a63c-f543e3c00416"
      },
      "execution_count": null,
      "outputs": [
        {
          "output_type": "display_data",
          "data": {
            "text/plain": [
              "<Figure size 2200x500 with 2 Axes>"
            ],
            "image/png": "[encoded data removed]"
          },
          "metadata": {}
        }
      ]
    },
    {
      "cell_type": "markdown",
      "source": [
        "# Test Model"
      ],
      "metadata": {
        "id": "r3qDvjsq9R5I"
      }
    },
    {
      "cell_type": "code",
      "source": [
        "import numpy as np\n",
        "from google.colab import files\n",
        "from tensorflow.keras.preprocessing import image\n",
        "import matplotlib.pyplot as plt\n",
        "import matplotlib.image as mpimg\n",
        "%matplotlib inline\n",
        "\n",
        "uploaded = files.upload()\n",
        "\n",
        "for fn in uploaded.keys():\n",
        "\n",
        "  path = fn\n",
        "  img = image.load_img(path, target_size=(100,100))\n",
        "\n",
        "  imgplot = plt.imshow(img)\n",
        "  x = image.img_to_array(img)\n",
        "  x = np.expand_dims(x, axis=0)\n",
        "  images = np.vstack([x])\n",
        "\n",
        "  classes = model.predict(images, batch_size=10)\n",
        "  print(classes[0,0])\n",
        "  if classes[0,0] == 1.0:\n",
        "    print('Paper')\n",
        "  elif classes[0,1] == 1.0:\n",
        "    print('Rock')\n",
        "  else:\n",
        "    print('Scissors')"
      ],
      "metadata": {
        "colab": {
          "base_uri": "https://localhost:8080/",
          "height": 541
        },
        "id": "AESM3Ezq8f8g",
        "outputId": "8e63b901-3aba-4798-ab20-785a992e74a7"
      },
      "execution_count": null,
      "outputs": [
        {
          "output_type": "display_data",
          "data": {
            "text/plain": [
              "<IPython.core.display.HTML object>"
            ],
            "text/html": [
              "\n",
              "     <input type=\"file\" id=\"files-3bea86b0-e92d-439f-a73c-2fa5f4dba4d3\" name=\"files[]\" multiple disabled\n",
              "        style=\"border:none\" />\n",
              "     <output id=\"result-3bea86b0-e92d-439f-a73c-2fa5f4dba4d3\">\n",
              "      Upload widget is only available when the cell has been executed in the\n",
              "      current browser session. Please rerun this cell to enable.\n",
              "      </output>\n",
              "      <script>// Copyright 2017 Google LLC\n",
              "//\n",
              "// Licensed under the Apache License, Version 2.0 (the \"License\");\n",
              "// you may not use this file except in compliance with the License.\n",
              "// You may obtain a copy of the License at\n",
              "//\n",
              "//      http://www.apache.org/licenses/LICENSE-2.0\n",
              "//\n",
              "// Unless required by applicable law or agreed to in writing, software\n",
              "// distributed under the License is distributed on an \"AS IS\" BASIS,\n",
              "// WITHOUT WARRANTIES OR CONDITIONS OF ANY KIND, either express or implied.\n",
              "// See the License for the specific language governing permissions and\n",
              "// limitations under the License.\n",
              "\n",
              "/**\n",
              " * @fileoverview Helpers for google.colab Python module.\n",
              " */\n",
              "(function(scope) {\n",
              "function span(text, styleAttributes = {}) {\n",
              "  const element = document.createElement('span');\n",
              "  element.textContent = text;\n",
              "  for (const key of Object.keys(styleAttributes)) {\n",
              "    element.style[key] = styleAttributes[key];\n",
              "  }\n",
              "  return element;\n",
              "}\n",
              "\n",
              "// Max number of bytes which will be uploaded at a time.\n",
              "const MAX_PAYLOAD_SIZE = 100 * 1024;\n",
              "\n",
              "function _uploadFiles(inputId, outputId) {\n",
              "  const steps = uploadFilesStep(inputId, outputId);\n",
              "  const outputElement = document.getElementById(outputId);\n",
              "  // Cache steps on the outputElement to make it available for the next call\n",
              "  // to uploadFilesContinue from Python.\n",
              "  outputElement.steps = steps;\n",
              "\n",
              "  return _uploadFilesContinue(outputId);\n",
              "}\n",
              "\n",
              "// This is roughly an async generator (not supported in the browser yet),\n",
              "// where there are multiple asynchronous steps and the Python side is going\n",
              "// to poll for completion of each step.\n",
              "// This uses a Promise to block the python side on completion of each step,\n",
              "// then passes the result of the previous step as the input to the next step.\n",
              "function _uploadFilesContinue(outputId) {\n",
              "  const outputElement = document.getElementById(outputId);\n",
              "  const steps = outputElement.steps;\n",
              "\n",
              "  const next = steps.next(outputElement.lastPromiseValue);\n",
              "  return Promise.resolve(next.value.promise).then((value) => {\n",
              "    // Cache the last promise value to make it available to the next\n",
              "    // step of the generator.\n",
              "    outputElement.lastPromiseValue = value;\n",
              "    return next.value.response;\n",
              "  });\n",
              "}\n",
              "\n",
              "/**\n",
              " * Generator function which is called between each async step of the upload\n",
              " * process.\n",
              " * @param {string} inputId Element ID of the input file picker element.\n",
              " * @param {string} outputId Element ID of the output display.\n",
              " * @return {!Iterable<!Object>} Iterable of next steps.\n",
              " */\n",
              "function* uploadFilesStep(inputId, outputId) {\n",
              "  const inputElement = document.getElementById(inputId);\n",
              "  inputElement.disabled = false;\n",
              "\n",
              "  const outputElement = document.getElementById(outputId);\n",
              "  outputElement.innerHTML = '';\n",
              "\n",
              "  const pickedPromise = new Promise((resolve) => {\n",
              "    inputElement.addEventListener('change', (e) => {\n",
              "      resolve(e.target.files);\n",
              "    });\n",
              "  });\n",
              "\n",
              "  const cancel = document.createElement('button');\n",
              "  inputElement.parentElement.appendChild(cancel);\n",
              "  cancel.textContent = 'Cancel upload';\n",
              "  const cancelPromise = new Promise((resolve) => {\n",
              "    cancel.onclick = () => {\n",
              "      resolve(null);\n",
              "    };\n",
              "  });\n",
              "\n",
              "  // Wait for the user to pick the files.\n",
              "  const files = yield {\n",
              "    promise: Promise.race([pickedPromise, cancelPromise]),\n",
              "    response: {\n",
              "      action: 'starting',\n",
              "    }\n",
              "  };\n",
              "\n",
              "  cancel.remove();\n",
              "\n",
              "  // Disable the input element since further picks are not allowed.\n",
              "  inputElement.disabled = true;\n",
              "\n",
              "  if (!files) {\n",
              "    return {\n",
              "      response: {\n",
              "        action: 'complete',\n",
              "      }\n",
              "    };\n",
              "  }\n",
              "\n",
              "  for (const file of files) {\n",
              "    const li = document.createElement('li');\n",
              "    li.append(span(file.name, {fontWeight: 'bold'}));\n",
              "    li.append(span(\n",
              "        `(${file.type || 'n/a'}) - ${file.size} bytes, ` +\n",
              "        `last modified: ${\n",
              "            file.lastModifiedDate ? file.lastModifiedDate.toLocaleDateString() :\n",
              "                                    'n/a'} - `));\n",
              "    const percent = span('0% done');\n",
              "    li.appendChild(percent);\n",
              "\n",
              "    outputElement.appendChild(li);\n",
              "\n",
              "    const fileDataPromise = new Promise((resolve) => {\n",
              "      const reader = new FileReader();\n",
              "      reader.onload = (e) => {\n",
              "        resolve(e.target.result);\n",
              "      };\n",
              "      reader.readAsArrayBuffer(file);\n",
              "    });\n",
              "    // Wait for the data to be ready.\n",
              "    let fileData = yield {\n",
              "      promise: fileDataPromise,\n",
              "      response: {\n",
              "        action: 'continue',\n",
              "      }\n",
              "    };\n",
              "\n",
              "    // Use a chunked sending to avoid message size limits. See b/62115660.\n",
              "    let position = 0;\n",
              "    do {\n",
              "      const length = Math.min(fileData.byteLength - position, MAX_PAYLOAD_SIZE);\n",
              "      const chunk = new Uint8Array(fileData, position, length);\n",
              "      position += length;\n",
              "\n",
              "      const base64 = btoa(String.fromCharCode.apply(null, chunk));\n",
              "      yield {\n",
              "        response: {\n",
              "          action: 'append',\n",
              "          file: file.name,\n",
              "          data: base64,\n",
              "        },\n",
              "      };\n",
              "\n",
              "      let percentDone = fileData.byteLength === 0 ?\n",
              "          100 :\n",
              "          Math.round((position / fileData.byteLength) * 100);\n",
              "      percent.textContent = `${percentDone}% done`;\n",
              "\n",
              "    } while (position < fileData.byteLength);\n",
              "  }\n",
              "\n",
              "  // All done.\n",
              "  yield {\n",
              "    response: {\n",
              "      action: 'complete',\n",
              "    }\n",
              "  };\n",
              "}\n",
              "\n",
              "scope.google = scope.google || {};\n",
              "scope.google.colab = scope.google.colab || {};\n",
              "scope.google.colab._files = {\n",
              "  _uploadFiles,\n",
              "  _uploadFilesContinue,\n",
              "};\n",
              "})(self);\n",
              "</script> "
            ]
          },
          "metadata": {}
        },
        {
          "output_type": "stream",
          "name": "stdout",
          "text": [
            "Saving 1yDUM1w2HTbuPIfO.png to 1yDUM1w2HTbuPIfO.png\n",
            "1/1 [==============================] - 0s 76ms/step\n",
            "0.0\n",
            "Scissors\n"
          ]
        },
        {
          "output_type": "display_data",
          "data": {
            "text/plain": [
              "<Figure size 640x480 with 1 Axes>"
            ],
            "image/png": "[encoded data removed]"
          },
          "metadata": {}
        }
      ]
    }
  ]
}